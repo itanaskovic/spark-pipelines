{
 "cells": [
  {
   "cell_type": "code",
   "execution_count": null,
   "metadata": {},
   "outputs": [],
   "source": [
    "import jaydebeapi\n",
    "from os import environ\n",
    "from os import listdir\n",
    "from os.path import isfile, join\n",
    "import pandas as pd\n",
    "\n",
    "hivepath = \"/opt/mapr/hive/hive-2.1/lib/\"\n",
    "commonpath = \"/opt/mapr/hadoop/hadoop-2.7.0/share/hadoop/common/lib\"\n",
    "hivejars = [join(hivepath, f) for f in listdir(hivepath) if isfile(join(hivepath, f)) and f.endswith(\".jar\")]\n",
    "commonjars = [join(commonpath, f) for f in listdir(commonpath) if isfile(join(commonpath, f)) and f.endswith(\".jar\")]\n",
    "\n",
    "alljars = list()\n",
    "alljars.extend(hivejars)\n",
    "alljars.extend(commonjars)\n",
    "alljars.append('/opt/mapr/lib/hadoop-common-2.7.0.jar')\n",
    "conn = jaydebeapi.connect('org.apache.hive.jdbc.HiveDriver',\n",
    "'jdbc:hive2://{}:10000/default;auth=maprsasl;saslQop=auth-conf'.format(environ['HIVE_METASTORE_HOST']), [\"\",\"\"], \n",
    "jars=alljars)\n",
    "\n",
    "df1 = pd.read_sql(\"\"\"select \n",
    "        state,\n",
    "        count(*) as n,\n",
    "        cast(avg(loan_amount) as decimal(12,2)) as loan_amount,\n",
    "        cast(avg(dti) as decimal(12,2)) as dti,\n",
    "        avg(cast(approved as decimal(12,2))) as avg_approved\n",
    "    from (select\n",
    "        loan_amount,\n",
    "        fico_score_group_fnl,\n",
    "        case when dti >= 10.0\n",
    "            then 10.0\n",
    "            else dti\n",
    "        end as dti,\n",
    "        emp_length,\n",
    "        case when state in ('CA', 'NY', 'MN', 'IL', 'FL', 'WA', 'MA', 'TX', 'GA', 'OH', 'NJ', 'VA', 'MI')\n",
    "            then state\n",
    "            else 'Other'\n",
    "        end as state,\n",
    "        loan_title,\n",
    "        approved\n",
    "    from default.lendingclub2017060401\n",
    "    where loan_title in('Debt Consolidation', 'Other', 'Home/Home Improvement', 'Payoff Credit Card', 'Car Payment/Loan',\n",
    "    'Business Loan', 'Health/Medical', 'Moving', 'Wedding/Engagement', 'Vacation', 'College', 'Renewable Energy', 'Payoff Bills',\n",
    "    'Personal Loan', 'Motorcycle')) dfFnl\n",
    "    group by state\n",
    "    order by avg_approved desc\"\"\", conn)\n",
    "conn.close()"
   ]
  },
  {
   "cell_type": "code",
   "execution_count": null,
   "metadata": {},
   "outputs": [],
   "source": [
    "df1"
   ]
  }
 ],
 "metadata": {
  "kernelspec": {
   "display_name": "Python 2",
   "language": "python",
   "name": "python2"
  },
  "language_info": {
   "codemirror_mode": {
    "name": "ipython",
    "version": 2
   },
   "file_extension": ".py",
   "mimetype": "text/x-python",
   "name": "python",
   "nbconvert_exporter": "python",
   "pygments_lexer": "ipython2",
   "version": "2.7.12"
  }
 },
 "nbformat": 4,
 "nbformat_minor": 2
}
